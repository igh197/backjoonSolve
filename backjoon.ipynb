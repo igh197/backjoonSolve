{
  "nbformat": 4,
  "nbformat_minor": 0,
  "metadata": {
    "colab": {
      "provenance": [],
      "authorship_tag": "ABX9TyP8ONFwPNRqTgY7ZnqycnoH",
      "include_colab_link": true
    },
    "kernelspec": {
      "name": "python3",
      "display_name": "Python 3"
    },
    "language_info": {
      "name": "python"
    }
  },
  "cells": [
    {
      "cell_type": "markdown",
      "metadata": {
        "id": "view-in-github",
        "colab_type": "text"
      },
      "source": [
        "<a href=\"https://colab.research.google.com/github/igh197/backjoonSolve/blob/main/backjoon.ipynb\" target=\"_parent\"><img src=\"https://colab.research.google.com/assets/colab-badge.svg\" alt=\"Open In Colab\"/></a>"
      ]
    },
    {
      "cell_type": "code",
      "execution_count": 4,
      "metadata": {
        "colab": {
          "base_uri": "https://localhost:8080/"
        },
        "id": "NMslWHDfO7rI",
        "outputId": "29658b49-b768-4d80-a442-14f3edc71858"
      },
      "outputs": [
        {
          "output_type": "stream",
          "name": "stdout",
          "text": [
            "ccccdd\n",
            "C\n"
          ]
        }
      ],
      "source": [
        "#단어공부#1157\n",
        "word = input()\n",
        "word = word.lower()\n",
        "cnt=[]\n",
        "word_list = list(set(word))\n",
        "for w in word_list:\n",
        "  cnt.append(word.count(w))\n",
        "\n",
        "if cnt.count(max(cnt)) > 1:\n",
        "  print(\"?\")\n",
        "else:\n",
        "  print(word_list[cnt.index(max(cnt))].upper())\n"
      ]
    },
    {
      "cell_type": "code",
      "source": [
        "#크로아티아 문자#2941\n",
        "l = input()\n",
        "\n",
        "if 'c=' in l:\n",
        "  l=l.replace('c=','1')\n",
        "if 'c-' in l:\n",
        "  l=l.replace('c-','2')\n",
        "if 'dz=' in l:\n",
        "  l=l.replace('dz=','3')\n",
        "if 'd-' in l:\n",
        "  l=l.replace('d-','4')\n",
        "if 'lj' in l:\n",
        "  l=l.replace('lj','5')\n",
        "if 'nj' in l:\n",
        "  l=l.replace('nj','6')\n",
        "if 's=' in l:\n",
        "  l=l.replace('s=','7')\n",
        "if 'z=' in l:\n",
        "  l=l.replace('z=','8')\n",
        "\n",
        "print(len(l))"
      ],
      "metadata": {
        "colab": {
          "base_uri": "https://localhost:8080/"
        },
        "id": "Lql6G4ZXdd5e",
        "outputId": "bcf44820-92dc-489a-f912-23e579bf41d1"
      },
      "execution_count": 7,
      "outputs": [
        {
          "output_type": "stream",
          "name": "stdout",
          "text": [
            "c=c=\n",
            "2\n"
          ]
        }
      ]
    }
  ]
}